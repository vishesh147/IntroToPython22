{
  "nbformat": 4,
  "nbformat_minor": 0,
  "metadata": {
    "colab": {
      "name": "Introduction to Python.ipynb",
      "provenance": [],
      "collapsed_sections": [
        "_UuGPZs3NqZ4",
        "205-mdpKOE0N",
        "rpV6K5g2-poV",
        "MhZxQV_tGTDh",
        "9SLntZtDBWIm",
        "e8ap3pbCyWWB",
        "ZHrW1ZH6yaZx",
        "R2stmFwH1bG6",
        "o8IE6F1q644_",
        "vHGfj0Ec8sNZ",
        "Qt1H9hac-xhs",
        "_pey6KELQiEN",
        "FbjCfzEWJcii",
        "XSSFGv_Epj-C",
        "PmYFxCRBRmah",
        "G2sYdEpjqxX0",
        "Rham6QHUtBU2",
        "OfzMxkkWuosV",
        "TAcvS5CXwc55",
        "ckYq3agCzvWx",
        "zbNwiHOAzz4Z",
        "SIDTd8Th0kky",
        "om4_rYjVrAPo",
        "qSuNuR8_tfBn",
        "dzU5mzruzY5H",
        "DYWtKWMQ1MbE",
        "ymQUs39T2eQQ",
        "mkQdG8OH-S0V",
        "6SfNEfWIDpQn",
        "6Oa6mj1nKC6G",
        "fKu0a5c4HArk",
        "VedX0S0pIPow",
        "3m2_tHhJMPfK",
        "da5xQPxrOQhm",
        "H5aF14B2QjE1",
        "zuH9m8hZST98",
        "UM_M67KKVHVs",
        "NaseWcEOW36X",
        "vn2aOgw_k3jW",
        "kAaObnGX_xZn",
        "qtTrYTOfFSbZ",
        "DAO3HKe2IKzV",
        "d7vJb3T_EHJP"
      ]
    },
    "kernelspec": {
      "name": "python3",
      "display_name": "Python 3"
    },
    "language_info": {
      "name": "python"
    }
  },
  "cells": [
    {
      "cell_type": "markdown",
      "source": [
        "## **What is Python ?**\n",
        "> Python is a popular, open source high-level programming language released in 1991. It is a platform independent ***interpreted*** language.\n",
        "\n",
        "## **What can it be used for ?**\n",
        "*   Data Science\n",
        "*   Machine Learning & AI\n",
        "*   Web Development (Server Side)\n",
        "*   GUI Development \n",
        "*   Scientific & Numeric Programming\n",
        "\n",
        "## **Why Python ?**\n",
        "1.   Simple, easy-to-learn syntax\n",
        "2.  There exists inbuilt functions for almost all of the frequently used concepts. \n",
        "3.   Supports a wide array of third-party modules and libraries \n"
      ],
      "metadata": {
        "id": "IslxLi6aFYCa"
      }
    },
    {
      "cell_type": "markdown",
      "source": [
        "# **Hello World!**\n",
        "```\n",
        "#include <stdio.h>\n",
        "\n",
        "int main(){\n",
        "    cout<<\"Hello World!\"<<endl;\n",
        "    return 0;\n",
        "}\n",
        "```\n",
        "\n"
      ],
      "metadata": {
        "id": "_UuGPZs3NqZ4"
      }
    },
    {
      "cell_type": "code",
      "source": [
        "print('Hello World!')   "
      ],
      "metadata": {
        "colab": {
          "base_uri": "https://localhost:8080/"
        },
        "id": "Zwkp1cc7MVqy",
        "outputId": "f18b1c1b-9e10-4861-fbd8-75bd40ee357a"
      },
      "execution_count": null,
      "outputs": [
        {
          "output_type": "stream",
          "name": "stdout",
          "text": [
            "Hello World!\n"
          ]
        }
      ]
    },
    {
      "cell_type": "markdown",
      "source": [
        "* The `print()` function is used for output in python. \n",
        "* Mainly, it takes a comma separated object(s) to print to output."
      ],
      "metadata": {
        "id": "tEDaUEoiWITR"
      }
    },
    {
      "cell_type": "code",
      "source": [
        ""
      ],
      "metadata": {
        "id": "Pxui7VI4W9Wv"
      },
      "execution_count": null,
      "outputs": []
    },
    {
      "cell_type": "code",
      "source": [
        "print(\"Hello\", \"World!\")"
      ],
      "metadata": {
        "colab": {
          "base_uri": "https://localhost:8080/"
        },
        "id": "nyA9idlmWfee",
        "outputId": "c511cbcc-17dc-4257-83c5-76bb6d7451bd"
      },
      "execution_count": null,
      "outputs": [
        {
          "output_type": "stream",
          "name": "stdout",
          "text": [
            "Hello World!\n"
          ]
        }
      ]
    },
    {
      "cell_type": "markdown",
      "source": [
        "* The `print()` function also takes two other optional arguements:\n",
        "1. **sep** = *'separator'* : Specify how to separate two objects. Set to ' ' by default.\n",
        "2. **end** = *'end'* : Specify what to print at the end of line. Set to '\\n' by default."
      ],
      "metadata": {
        "id": "AHaTb3LYW6PQ"
      }
    },
    {
      "cell_type": "code",
      "source": [
        "print(\"Hello\", \"World!\", sep='_')"
      ],
      "metadata": {
        "id": "9m6SBqqzXP7U"
      },
      "execution_count": null,
      "outputs": []
    },
    {
      "cell_type": "code",
      "source": [
        "print(\"Hello\")#, end='___')\n",
        "print(\"World!\")"
      ],
      "metadata": {
        "id": "_cL2joMrXW4b"
      },
      "execution_count": null,
      "outputs": []
    },
    {
      "cell_type": "markdown",
      "source": [
        "# **Python vs. C/C++**\n",
        "\n",
        "1. No  `;` in Python!\n",
        "\n",
        "Unlike C/C++ a python statement does not require a `;` to terminate. But, every python statement must be placed in a new line.\n",
        "\n",
        "2. No `{ }` in Python!\n",
        "\n",
        "Python does not use `{ }` to define blocks in code like in C/C++. Instead, python brings a new headache of ***Indentation***. "
      ],
      "metadata": {
        "id": "205-mdpKOE0N"
      }
    },
    {
      "cell_type": "code",
      "source": [
        "# Writing two statements within the same line like C/C++ is invalid in python.\n",
        "a = 1\n",
        "b = 4            \n",
        "print(a+b)"
      ],
      "metadata": {
        "colab": {
          "base_uri": "https://localhost:8080/"
        },
        "id": "ljBH3XyeBncr",
        "outputId": "7bf5b2a0-3670-4c42-afd9-cb1f4dea3a98"
      },
      "execution_count": null,
      "outputs": [
        {
          "output_type": "stream",
          "name": "stdout",
          "text": [
            "5\n"
          ]
        }
      ]
    },
    {
      "cell_type": "markdown",
      "source": [
        "# **Indentation**\n",
        "\n",
        "* Indentation refers to the spaces at the beginning of a code line. For most \n",
        "languages, it is significant to only readability of code but in Python indetation becomes compulsory as it defines scope. Wrong indentation can cause ***undectatable*** errors in your program.\n",
        "\n",
        "\n",
        "\n",
        "* The number of spaces is upto the programmer, but it should remain consistent throughout the same block. Generally, 4 spaces are used for indentation.\n",
        "\n",
        "\n",
        "\n",
        "\n",
        "\n"
      ],
      "metadata": {
        "id": "rpV6K5g2-poV"
      }
    },
    {
      "cell_type": "code",
      "source": [
        "if 2 < 6:\n",
        "    print(\"Statement 1\")\n",
        "    print(\"Statement 2\")"
      ],
      "metadata": {
        "id": "z8Mi5kgv-m7d"
      },
      "execution_count": null,
      "outputs": []
    },
    {
      "cell_type": "markdown",
      "source": [
        "# **Comments in python**\n",
        "\n",
        "* All text followed by a `#` in a line is treated as a comment.\n",
        "* Python does not support multiline comments, but we do have a workaround which will be discussed later.\n",
        "\n"
      ],
      "metadata": {
        "id": "MhZxQV_tGTDh"
      }
    },
    {
      "cell_type": "code",
      "source": [
        "# This is a comment\n",
        "print(\"Hello!\")"
      ],
      "metadata": {
        "colab": {
          "base_uri": "https://localhost:8080/"
        },
        "id": "5T7q2PGVGwnE",
        "outputId": "b0659321-4775-4ebf-c8ba-b067d8e0403e"
      },
      "execution_count": null,
      "outputs": [
        {
          "output_type": "stream",
          "name": "stdout",
          "text": [
            "Hello!\n"
          ]
        }
      ]
    },
    {
      "cell_type": "markdown",
      "source": [
        "# **Variables in Python**\n",
        "\n",
        "* Python has no command for declaring a variable. Statements like ```int x;``` do not exist in Python.\n",
        "\n",
        "* A variable is created whenever it is initialized with a value. For example, \n",
        "\n",
        "\n",
        "\n",
        "\n",
        "\n",
        "\n",
        "\n",
        "\n"
      ],
      "metadata": {
        "id": "9SLntZtDBWIm"
      }
    },
    {
      "cell_type": "code",
      "source": [
        "x = 0"
      ],
      "metadata": {
        "id": "2BazoXz2CFqT"
      },
      "execution_count": null,
      "outputs": []
    },
    {
      "cell_type": "markdown",
      "source": [
        "\n",
        "* The rules for variable naming a similar to that in C/C++. A variable name can contain only alphanumeric characters and underscores and cannot start with a number. They are case-sensitive.\n",
        "\n",
        "* Variables do not require a data type when initialized and data type of any variable can be changed as required.\n",
        "* If you want to use a variable as a particular type, it can be done using casting.\n"
      ],
      "metadata": {
        "id": "57rtB8H3EPM4"
      }
    },
    {
      "cell_type": "code",
      "source": [
        "i = 10\n",
        "f = 3.1417\n",
        "cx = 1j\n",
        "ch = 'A'\n",
        "s = \"This is a string.\"\n",
        "b = True\n",
        "\n",
        "# type() function can be used to check the data type of a variable. "
      ],
      "metadata": {
        "id": "tSpkdR26EmH7"
      },
      "execution_count": null,
      "outputs": []
    },
    {
      "cell_type": "markdown",
      "source": [
        "\n",
        "\n",
        "* Multiple variables can be initialized in a single statement also."
      ],
      "metadata": {
        "id": "9OTFLblhHNNH"
      }
    },
    {
      "cell_type": "code",
      "source": [
        "x, y, z = 10, \"Hello\", 2.0\n",
        "\n",
        "print(x)"
      ],
      "metadata": {
        "id": "gNZqSuJ8IUA9"
      },
      "execution_count": null,
      "outputs": []
    },
    {
      "cell_type": "markdown",
      "source": [
        "# **Operators in Python**"
      ],
      "metadata": {
        "id": "e8ap3pbCyWWB"
      }
    },
    {
      "cell_type": "markdown",
      "source": [
        "## **Arithmetic Operators**\n",
        "\n",
        "Operator | Name \n",
        "--- | ---\n",
        "`+` | Addition\n",
        "`-` | Subtraction\n",
        "`*` | Multiplication \n",
        "`/` | Division\n",
        "`%` | Modulus\n",
        "`**`| Exponentiation (Power)\n",
        "`//`| Floor division \n",
        "\n"
      ],
      "metadata": {
        "id": "ZHrW1ZH6yaZx"
      }
    },
    {
      "cell_type": "code",
      "source": [
        "print(10/4)"
      ],
      "metadata": {
        "id": "Ug8HFH-w09t2"
      },
      "execution_count": null,
      "outputs": []
    },
    {
      "cell_type": "code",
      "source": [
        "print(10//4)"
      ],
      "metadata": {
        "id": "Lt2bM52j1LSX"
      },
      "execution_count": null,
      "outputs": []
    },
    {
      "cell_type": "code",
      "source": [
        "print(2**10)    # pow(2, 10)"
      ],
      "metadata": {
        "id": "-Ez8twyy1N0-"
      },
      "execution_count": null,
      "outputs": []
    },
    {
      "cell_type": "markdown",
      "source": [
        "## **Assignment Operators**\n",
        "\n",
        "Operator &emsp; &emsp;| Use  &emsp;  &emsp;  &emsp;   | Equivalent \n",
        "---- |----------|------------\n",
        "`=`  | \tx = 7   |   x = 7\t\n",
        "`+=` |\tx += 7  | \tx = x + 7\t\n",
        "`-=` |\tx -= 7  | \tx = x - 7\t\n",
        "`*=` |\tx \\*= 7 |\tx = x * 7\t\n",
        "`/=` |\tx /= 7  |\tx = x / 7\t\n",
        "`%=` |\tx %= 7  |\tx = x % 7\t\n",
        "`//=`|\tx //= 7 |\tx = x // 7\t\n",
        "`**=`|\tx **= 7 |\tx = x ** 7\t\n",
        "`&=` |\tx &= 7  |\tx = x & 7\t\n",
        "`\\|=`|\tx \\|= 7 |   x = x \\| 7\t\n",
        "`^=` |\tx ^= 7  |\tx = x ^ 7\t\n",
        "`>>=`|\tx >>= 7 |\tx = x >> 7\t\n",
        "`<<=`|\tx <<= 7 |\tx = x << 7"
      ],
      "metadata": {
        "id": "R2stmFwH1bG6"
      }
    },
    {
      "cell_type": "code",
      "source": [
        "x = 4;\n",
        "x **= 3;\n",
        "print(x)"
      ],
      "metadata": {
        "id": "OczhqdY74NVW"
      },
      "execution_count": null,
      "outputs": []
    },
    {
      "cell_type": "markdown",
      "source": [
        "## **Python Logical Operators**\n",
        "\n",
        "* In python logical operators are used directly by name. We do not have `&&` and `||` in python.\n",
        "\n",
        "Operator | Description | Example\n",
        "---|---|---\n",
        "`and` | True if both conditions are true |\tx < 4 and  x < 14\t\n",
        "`or`\t| True if any one of the condition is true |\tx < 10 or x > 20\t\n",
        "`not`\t| Returns False if the result is True and vice versa &nbsp;|\tnot(x < 5 and x < 10)"
      ],
      "metadata": {
        "id": "o8IE6F1q644_"
      }
    },
    {
      "cell_type": "code",
      "source": [
        "x = 15\n",
        "if x < 20 or x > 40:\n",
        "    print(\"Hello\")"
      ],
      "metadata": {
        "id": "7BVusjCj7uH8"
      },
      "execution_count": null,
      "outputs": []
    },
    {
      "cell_type": "markdown",
      "source": [
        "## **Identity Operators**\n",
        "\n",
        "Operator| Description | Usage\n",
        "---|---|---\n",
        "`is` \t| Returns True if both variables are the same object |\tx is y\t\n",
        "`is not`\t| Returns True if both variables are not the same object | x is not y"
      ],
      "metadata": {
        "id": "vHGfj0Ec8sNZ"
      }
    },
    {
      "cell_type": "code",
      "source": [
        "x = [1, 2]      # [] creates a list in python\n",
        "y = [1, 2]\n",
        "z = x\n",
        "\n",
        "print(\"y is x :\", y is x)\n",
        "print(\"y == x :\", y==x)\n",
        "print()     # An empty print() statement will print a newline\n",
        "\n",
        "print(\"z is x :\", z is x) "
      ],
      "metadata": {
        "id": "IQlouEUG8-hK"
      },
      "execution_count": null,
      "outputs": []
    },
    {
      "cell_type": "markdown",
      "source": [
        "## **Membership Operators**\n",
        "\n",
        "Operator| Description | Usage\n",
        "---|---|---\n",
        "`in` | \tReturns True if a sequence with the specified value is present in the object |\tx in y\t\n",
        "`not in` |\tReturns True if a sequence with the specified value is not present in the object |\tx not in y"
      ],
      "metadata": {
        "id": "Qt1H9hac-xhs"
      }
    },
    {
      "cell_type": "code",
      "source": [
        "ls = [10, 20, 30]\n",
        "print(\"10 in ls :\", 10 in ls)\n",
        "print(\"40 in ls :\", 40 in ls)\n",
        "print()\n",
        "print(\"40 not in ls :\", 40 not in ls)"
      ],
      "metadata": {
        "colab": {
          "base_uri": "https://localhost:8080/"
        },
        "id": "kVZ5qBBj_Hvy",
        "outputId": "40511a7c-86ad-4820-fe24-0f4fb3ca3fdc"
      },
      "execution_count": null,
      "outputs": [
        {
          "output_type": "stream",
          "name": "stdout",
          "text": [
            "10 in ls : True\n",
            "40 in ls : False\n",
            "\n",
            "40 not in ls : True\n"
          ]
        }
      ]
    },
    {
      "cell_type": "markdown",
      "source": [
        "# **Taking Input in Python**\n",
        "\n",
        "* Taking input in python is fairly easy and we use the `input()` function to do so.\n",
        "* The `input()` function can take an optional string arguement which will be printed before asking for input."
      ],
      "metadata": {
        "id": "_pey6KELQiEN"
      }
    },
    {
      "cell_type": "code",
      "source": [
        "name = input(\"What is your name ? \")   \n",
        "print(\"Welcome \" + name)"
      ],
      "metadata": {
        "id": "EMIbTGFBQwy0"
      },
      "execution_count": null,
      "outputs": []
    },
    {
      "cell_type": "code",
      "source": [
        "x = input(\"Enter a number: \")\n",
        "print(x + 10)\n",
        "# print(type(x))"
      ],
      "metadata": {
        "id": "gDdilPiVRsKa"
      },
      "execution_count": null,
      "outputs": []
    },
    {
      "cell_type": "markdown",
      "source": [
        "# **Strings in Python**\n",
        "\n",
        "* Any data within double quotes `\" \"` or single quotes `' '` is treated as a string in Python."
      ],
      "metadata": {
        "id": "FbjCfzEWJcii"
      }
    },
    {
      "cell_type": "code",
      "source": [
        "myString = 'Python is Fun!'\n",
        "myString = \"Python is Fun!\""
      ],
      "metadata": {
        "id": "4KfmouzfKCbD"
      },
      "execution_count": null,
      "outputs": []
    },
    {
      "cell_type": "markdown",
      "source": [
        "* A multiline string can be assigned to a variable using three quotes."
      ],
      "metadata": {
        "id": "x4_1InOcKY34"
      }
    },
    {
      "cell_type": "code",
      "source": [
        "myMultiString = \"\"\"This is \n",
        "a multiline \n",
        "string.\"\"\"\n",
        "print(myMultiString)"
      ],
      "metadata": {
        "colab": {
          "base_uri": "https://localhost:8080/"
        },
        "id": "KE39epo9Ko0b",
        "outputId": "7ab1f5c7-ca0e-4931-ff11-60d6c2e84671"
      },
      "execution_count": null,
      "outputs": [
        {
          "output_type": "stream",
          "name": "stdout",
          "text": [
            "This is \n",
            "a multiline \n",
            "string.\n"
          ]
        }
      ]
    },
    {
      "cell_type": "markdown",
      "source": [
        "\n",
        "* Using this as a workaround, we can simply enclose code between three quotes (single or double) to commment them. Python will treat it as a string which is not assigned to any variable and will hence ignore it.\n"
      ],
      "metadata": {
        "id": "mgIQbAzBLND6"
      }
    },
    {
      "cell_type": "code",
      "source": [
        "'''\n",
        "print(\"Hello!\")\n",
        "print(\"World\")\n",
        "'''\n",
        "print(\"I Love Python!\")"
      ],
      "metadata": {
        "colab": {
          "base_uri": "https://localhost:8080/"
        },
        "id": "TekbljKuLtIG",
        "outputId": "3ecf8e96-25d0-47db-a0ff-7fba98aaed98"
      },
      "execution_count": null,
      "outputs": [
        {
          "output_type": "stream",
          "name": "stdout",
          "text": [
            "I Love Python!\n"
          ]
        }
      ]
    },
    {
      "cell_type": "markdown",
      "source": [
        "* Python is packed with many string ***methods*** which make working with strings very easy. "
      ],
      "metadata": {
        "id": "jikFiuMpnW9Z"
      }
    },
    {
      "cell_type": "code",
      "source": [
        "s1 = \"This is a string.\"\n",
        "\n",
        "# Formatting\n",
        "print(s1.upper())\n",
        "print(s1.lower())\n",
        "print(s1.swapcase())\n",
        "print()\n",
        "\n",
        "# Boolean checks\n",
        "print(s1.isalpha())\n",
        "print(s1.isnumeric())"
      ],
      "metadata": {
        "id": "gn7AMJDPnpfZ"
      },
      "execution_count": null,
      "outputs": []
    },
    {
      "cell_type": "markdown",
      "source": [
        "## **`split()` and `join()` string methods**\n",
        "\n",
        "* `split()` : Splits the string in chunks separated by the input arguement.\n",
        "* `join()` : Joins the items in iterable given as arguement, with the calling string as separator and returns new string."
      ],
      "metadata": {
        "id": "XSSFGv_Epj-C"
      }
    },
    {
      "cell_type": "code",
      "source": [
        "sample = \"Python is Fun!\"\n",
        "stringList = sample.split()   #Default separator is ' '\n",
        "print(stringList)"
      ],
      "metadata": {
        "colab": {
          "base_uri": "https://localhost:8080/"
        },
        "id": "20B6bu7Uop9U",
        "outputId": "7c9b55b7-f46d-4c26-88ec-b15e5f6fdaba"
      },
      "execution_count": null,
      "outputs": [
        {
          "output_type": "stream",
          "name": "stdout",
          "text": [
            "['Python', 'is', 'Fun!']\n"
          ]
        }
      ]
    },
    {
      "cell_type": "code",
      "source": [
        "separator = \"_\"\n",
        "joinedStr = separator.join(stringList)  # stringList is a python iterable\n",
        "print(joinedStr)"
      ],
      "metadata": {
        "colab": {
          "base_uri": "https://localhost:8080/"
        },
        "id": "RLhv93lOqSI_",
        "outputId": "050246fe-0901-4438-8daa-a0dd4e08fb88"
      },
      "execution_count": null,
      "outputs": [
        {
          "output_type": "stream",
          "name": "stdout",
          "text": [
            "Python_is_Fun!\n"
          ]
        }
      ]
    },
    {
      "cell_type": "markdown",
      "source": [
        "Checkout other useful string methods here : https://www.w3schools.com/python/python_strings_methods.asp"
      ],
      "metadata": {
        "id": "09Xvznti4L3b"
      }
    },
    {
      "cell_type": "markdown",
      "source": [
        "# **Type Casting**\n",
        "\n",
        "* Type casting can be used to convert variables from one type to another. \n",
        "* By default, the input() function return a string type variable and hence this variable must be typecasted properly before use."
      ],
      "metadata": {
        "id": "PmYFxCRBRmah"
      }
    },
    {
      "cell_type": "code",
      "source": [
        "x = int(input(\"Enter a number: \"))\n",
        "print(x + 10)"
      ],
      "metadata": {
        "id": "-kLzcLD3SZyz"
      },
      "execution_count": null,
      "outputs": []
    },
    {
      "cell_type": "markdown",
      "source": [
        "Type casting can be mainly done with these data type function:\n",
        "* `str()` : Convert int or float type to string\n",
        "* `int()` : Convert string or float type to integer\n",
        "* `float()` : Convert string or int type to float"
      ],
      "metadata": {
        "id": "_iieNNzOSznr"
      }
    },
    {
      "cell_type": "code",
      "source": [
        "x_int = 10\n",
        "x_str = \"12\"\n",
        "x_float = 14.7\n",
        "\n",
        "# str()\n",
        "print(\"Result: \" + str(x_int));\n",
        "print(\"Result: \" + str(x_float));\n",
        "print('')\n",
        "\n",
        "# int()\n",
        "print(3 + x_float)\n",
        "print(3 + int(x_float))\n",
        "print(4 + int(x_str), type(int(x_str)))\n",
        "print('')\n",
        "\n",
        "# float()\n",
        "print(1.2 + float(x_int), type(float(x_int)))\n",
        "print(1.3 + float(x_str))\n",
        "print('')\n",
        "\n",
        "# original variable types\n",
        "print(type(x_int), type(x_str), type(x_float))"
      ],
      "metadata": {
        "id": "inM3XSNeTTja",
        "colab": {
          "base_uri": "https://localhost:8080/"
        },
        "outputId": "dc4a0101-6acd-4d89-ae68-31b860ec86a9"
      },
      "execution_count": null,
      "outputs": [
        {
          "output_type": "stream",
          "name": "stdout",
          "text": [
            "Result: 10\n",
            "Result: 14.7\n",
            "\n",
            "17.7\n",
            "17\n",
            "16 <class 'int'>\n",
            "\n",
            "11.2 <class 'float'>\n",
            "13.3\n",
            "\n",
            "<class 'int'> <class 'str'> <class 'float'>\n"
          ]
        }
      ]
    },
    {
      "cell_type": "markdown",
      "source": [
        "* One must note that the type casting functions do not change the type of the original variable but instead return a new value of the desired type. To change type of the original variable one can use, "
      ],
      "metadata": {
        "id": "ARDrmoCFVNcr"
      }
    },
    {
      "cell_type": "code",
      "source": [
        "x = \"10\"\n",
        "print(type(x))\n",
        "x = int(x)\n",
        "print(type(x))"
      ],
      "metadata": {
        "id": "MAjIKGSLVbzY"
      },
      "execution_count": null,
      "outputs": []
    },
    {
      "cell_type": "markdown",
      "source": [
        "# **Conditional Statements**\n",
        "\n",
        "* Conditional statements in python are similar to those in C/C++.\n",
        "* A simple C++ code snippet \n",
        "```\n",
        "int x = 30;\n",
        "int y = 20;\n",
        "if(x > y){\n",
        "    cout<<\"x is greater than y.\";\n",
        "}\n",
        "```\n",
        "can be written as under in python."
      ],
      "metadata": {
        "id": "G2sYdEpjqxX0"
      }
    },
    {
      "cell_type": "code",
      "source": [
        "x = 30\n",
        "y = 20\n",
        "if x > y : \n",
        "    print(\"x is greater than y.\")"
      ],
      "metadata": {
        "id": "FRj41fGQreOn"
      },
      "execution_count": null,
      "outputs": []
    },
    {
      "cell_type": "markdown",
      "source": [
        "* Adding an else statement is also similar."
      ],
      "metadata": {
        "id": "VZzvdIcFsQMN"
      }
    },
    {
      "cell_type": "code",
      "source": [
        "x = 10\n",
        "y = 20\n",
        "if x > y : \n",
        "    print(\"x is greater than y.\")\n",
        "else:\n",
        "    print(\"x is smaller than y.\")"
      ],
      "metadata": {
        "id": "_sYroSPVsUGF"
      },
      "execution_count": null,
      "outputs": []
    },
    {
      "cell_type": "markdown",
      "source": [
        "* But, `else if` statement in C/C++, is changed to `elif`. "
      ],
      "metadata": {
        "id": "UTjzEHfqsc5R"
      }
    },
    {
      "cell_type": "code",
      "source": [
        "x = 20\n",
        "y = 20\n",
        "if a > b : \n",
        "    print(\"x is greater than y.\")\n",
        "elif(a == b):                # Although not required, you can use brackets\n",
        "    print(\"x is equal to y.\")\n",
        "else:\n",
        "    print(\"x is smaller than y.\")"
      ],
      "metadata": {
        "colab": {
          "base_uri": "https://localhost:8080/"
        },
        "id": "AC-hfyL-sxBT",
        "outputId": "c04f2ae1-54cc-44c4-8051-359ddb77ac6c"
      },
      "execution_count": null,
      "outputs": [
        {
          "output_type": "stream",
          "name": "stdout",
          "text": [
            "a is equal to b.\n"
          ]
        }
      ]
    },
    {
      "cell_type": "markdown",
      "source": [
        "## **Short-hand conditional statements**\n",
        "\n",
        "* If we need to execute only one line of code after if statement, we can use a shorthand version of if (which does not require indentation)\n",
        "\n"
      ],
      "metadata": {
        "id": "Rham6QHUtBU2"
      }
    },
    {
      "cell_type": "code",
      "source": [
        "x = 30\n",
        "y = 20\n",
        "if x > y: print(\"x is greater than y.\")"
      ],
      "metadata": {
        "id": "KvcHkNoitYWL"
      },
      "execution_count": null,
      "outputs": []
    },
    {
      "cell_type": "markdown",
      "source": [
        "* `If ... else` and `if ... elif ... else` type statements can be written in short-hand form as follow. "
      ],
      "metadata": {
        "id": "GzGqdZFWtwZz"
      }
    },
    {
      "cell_type": "code",
      "source": [
        "x = 20\n",
        "y = 20\n",
        "print(\"X > Y\") if x > y else print(\"X = Y\") if x==y else print(\"X < Y\")"
      ],
      "metadata": {
        "colab": {
          "base_uri": "https://localhost:8080/"
        },
        "id": "QgSyo31zuCBI",
        "outputId": "a8a3297d-0dd1-4261-dd84-419f6719d5cc"
      },
      "execution_count": null,
      "outputs": [
        {
          "output_type": "stream",
          "name": "stdout",
          "text": [
            "X = Y\n"
          ]
        }
      ]
    },
    {
      "cell_type": "markdown",
      "source": [
        "##**Use of Nested if and Logical Operators**\n"
      ],
      "metadata": {
        "id": "OfzMxkkWuosV"
      }
    },
    {
      "cell_type": "code",
      "source": [
        "marks = 75\n",
        "\n",
        "if marks > 100 or marks < 0:\n",
        "    print(\"Invalid Marks!\")\n",
        "else:\n",
        "    if marks > 40:\n",
        "        if marks >= 80 and marks <= 100:\n",
        "            print(\"Passed with Grade A\")\n",
        "        elif marks >= 60 and marks < 80:\n",
        "            print(\"Passed with Grade B\")\n",
        "        else:\n",
        "            print(\"Passed with Grade C\")\n",
        "    else:\n",
        "        print(\"Failed\") "
      ],
      "metadata": {
        "id": "17dvRGOzu0rG"
      },
      "execution_count": null,
      "outputs": []
    },
    {
      "cell_type": "markdown",
      "source": [
        "# **Python Loops**\n",
        "\n",
        "\n"
      ],
      "metadata": {
        "id": "TAcvS5CXwc55"
      }
    },
    {
      "cell_type": "markdown",
      "source": [
        "## **While Loop**\n",
        "* The while loop will execute the code block as long as the given condition is true."
      ],
      "metadata": {
        "id": "ckYq3agCzvWx"
      }
    },
    {
      "cell_type": "code",
      "source": [
        "counter = 10\n",
        "while counter > 0:\n",
        "    print(counter, end=' ')\n",
        "    counter -= 1                # Python does not support counter--"
      ],
      "metadata": {
        "colab": {
          "base_uri": "https://localhost:8080/"
        },
        "id": "d16yQYCvw2zQ",
        "outputId": "fa3b3151-cb65-4fa1-f50b-7224cfa8a484"
      },
      "execution_count": null,
      "outputs": [
        {
          "output_type": "stream",
          "name": "stdout",
          "text": [
            "10 9 8 7 6 5 4 3 2 1 "
          ]
        }
      ]
    },
    {
      "cell_type": "markdown",
      "source": [
        "### `break` statement :\n",
        " Used to break out of the loop without the loop condition being evaluated to false."
      ],
      "metadata": {
        "id": "8kjyQ928xKYR"
      }
    },
    {
      "cell_type": "code",
      "source": [
        "counter = 10\n",
        "while counter > 0:\n",
        "    print(counter, end=' ')\n",
        "    if counter == 5: \n",
        "        break\n",
        "    counter -= 1     "
      ],
      "metadata": {
        "colab": {
          "base_uri": "https://localhost:8080/"
        },
        "id": "T1zyp4nBxWWl",
        "outputId": "d4381c9f-360d-42af-9fe3-60f3a1735ab3"
      },
      "execution_count": null,
      "outputs": [
        {
          "output_type": "stream",
          "name": "stdout",
          "text": [
            "10 9 8 7 6 5 "
          ]
        }
      ]
    },
    {
      "cell_type": "markdown",
      "source": [
        "### `continue` statement: \n",
        "Used to *continue* the next iteration of the loop without executing the lines after this statement.\n"
      ],
      "metadata": {
        "id": "dX4qUnoaxmLh"
      }
    },
    {
      "cell_type": "code",
      "source": [
        "counter = 10\n",
        "while counter > 0:\n",
        "    if counter%2 == 1: \n",
        "        continue                    # Can you spot a bug in this code ?\n",
        "    print(counter, end=' ')\n",
        "    counter -= 1 "
      ],
      "metadata": {
        "id": "DM0uIKyXxhlt"
      },
      "execution_count": null,
      "outputs": []
    },
    {
      "cell_type": "markdown",
      "source": [
        "### `else` statement in Loop\n",
        "\n",
        "In python, we can write an `else` block after the loop. This block is executed once the loop condition evaluates to false."
      ],
      "metadata": {
        "id": "gRM9XY6lyay1"
      }
    },
    {
      "cell_type": "code",
      "source": [
        "counter = 10\n",
        "while counter > 0:\n",
        "    print(counter, end=' ')\n",
        "    counter -= 1     \n",
        "else:\n",
        "    print(\"\\nFinal Counter:\", counter)"
      ],
      "metadata": {
        "id": "ZsobmxJ8y4hV"
      },
      "execution_count": null,
      "outputs": []
    },
    {
      "cell_type": "markdown",
      "source": [
        "* If `break` statement is used to exit loop, `else` block will NOT be executed."
      ],
      "metadata": {
        "id": "m7A3r_O-zchj"
      }
    },
    {
      "cell_type": "markdown",
      "source": [
        "## **For Loop**\n",
        "* The for loop is usually executed for a range of numbers or items.\n"
      ],
      "metadata": {
        "id": "zbNwiHOAzz4Z"
      }
    },
    {
      "cell_type": "code",
      "source": [
        "lang = [\"Python\", \"C\", \"Ruby\", \"Java\"]\n",
        "for x in lang:             # x serves as a temp variable                                \n",
        "    print(x)"
      ],
      "metadata": {
        "id": "D-8jomOi0JoP"
      },
      "execution_count": null,
      "outputs": []
    },
    {
      "cell_type": "code",
      "source": [
        "# Looping through a string\n",
        "for c in \"India\":         \n",
        "  print(c)"
      ],
      "metadata": {
        "id": "JY_Z9A2F0p4y"
      },
      "execution_count": null,
      "outputs": []
    },
    {
      "cell_type": "markdown",
      "source": [
        "### **`range()` function**\n",
        "\n",
        "* The `range(start, end, step)` function is used to create a sequence of numbers from `start` to `end` with an increment of `step`. \n",
        "* `end` is not included in the sequence.\n",
        "\n",
        "`range()` can be used in three ways:"
      ],
      "metadata": {
        "id": "SIDTd8Th0kky"
      }
    },
    {
      "cell_type": "code",
      "source": [
        "# If only a single arguement is given, range defaults start value to 0.\n",
        "# Value of step is taken 1 by default.\n",
        "\n",
        "for i in range(5):\n",
        "    print(i, end=\" \")"
      ],
      "metadata": {
        "id": "ahsmnHLR1rYL"
      },
      "execution_count": null,
      "outputs": []
    },
    {
      "cell_type": "code",
      "source": [
        "for i in range(2, 7):\n",
        "    print(i, end=\" \")"
      ],
      "metadata": {
        "id": "qVJb5Wki2c9y"
      },
      "execution_count": null,
      "outputs": []
    },
    {
      "cell_type": "code",
      "source": [
        "for i in range(10, 4, -1):\n",
        "    print(i, end=\" \")"
      ],
      "metadata": {
        "id": "-j9zl3AL2hai"
      },
      "execution_count": null,
      "outputs": []
    },
    {
      "cell_type": "markdown",
      "source": [
        "# **Python Collections**"
      ],
      "metadata": {
        "id": "tuuOVY01bG6k"
      }
    },
    {
      "cell_type": "markdown",
      "source": [
        "## **Lists**\n",
        "\n",
        "* Python lists are used to store multiple items in a single variable.\n",
        "* An important point about lists is that they can comprise of multiple types of variables.\n",
        "* Lists are 0-indexed and any list item can be accessed using this index.\n",
        "* List items are mutable (changeable)."
      ],
      "metadata": {
        "id": "om4_rYjVrAPo"
      }
    },
    {
      "cell_type": "code",
      "source": [
        "myList = [10, 'ListItem', 14.5, 10j]\n",
        "print(type(myList[0]), type(myList[1]), type(myList[2]), type(myList[3]))\n",
        "\n",
        "\n",
        "\n",
        "# We can get the length of a list (or any other iterable) using len()\n",
        "print(\"Length of List:\", len(myList))"
      ],
      "metadata": {
        "colab": {
          "base_uri": "https://localhost:8080/"
        },
        "id": "a1VJoDRNsF7A",
        "outputId": "59a0d935-e2fc-46e3-f224-ad6699912cda"
      },
      "execution_count": null,
      "outputs": [
        {
          "output_type": "stream",
          "name": "stdout",
          "text": [
            "<class 'int'> <class 'str'> <class 'float'> <class 'complex'>\n",
            "Length of List: 4\n"
          ]
        }
      ]
    },
    {
      "cell_type": "markdown",
      "source": [
        "### **List Indexing**\n",
        "\n",
        "* Lists are 0-indexed.\n",
        "* Python also supports negative indexing. In negative indexing, the last item is assigned index `-1` and decreases by 1 as we move towards the first item."
      ],
      "metadata": {
        "id": "qSuNuR8_tfBn"
      }
    },
    {
      "cell_type": "code",
      "source": [
        "ls = [10, 20, 30, 40, 50, 60]\n",
        "\n",
        "print(ls[5], ls[-1])\n",
        "print(ls[4], ls[-2])\n",
        "print(ls[0], ls[-6])"
      ],
      "metadata": {
        "colab": {
          "base_uri": "https://localhost:8080/"
        },
        "id": "rW6piX-st5wc",
        "outputId": "47bc823e-85dd-4adf-f018-96dbe826e2c3"
      },
      "execution_count": null,
      "outputs": [
        {
          "output_type": "stream",
          "name": "stdout",
          "text": [
            "60 60\n",
            "50 50\n",
            "10 10\n"
          ]
        }
      ]
    },
    {
      "cell_type": "markdown",
      "source": [
        "* Python also supports range indexing to get a range of items from a list. \n",
        "* The range index is of the form `[i:j]`, which returns items from index `i` to `j-1` excluding item at index `j`"
      ],
      "metadata": {
        "id": "amLs43KgupbU"
      }
    },
    {
      "cell_type": "code",
      "source": [
        "fruits = [\"apple\", \"mango\", \"orange\", \"kiwi\", \"banana\", \"cherry\", \"melon\"]\n",
        "\n",
        "print(fruits[1:3])      # Elements [1] and [2] are printed."
      ],
      "metadata": {
        "id": "p5MdGUrKuk1J"
      },
      "execution_count": null,
      "outputs": []
    },
    {
      "cell_type": "code",
      "source": [
        "# If first index is left empty, it will default to first index, i.e 0.\n",
        "print(fruits[:3])"
      ],
      "metadata": {
        "id": "OmScbpawwcFI"
      },
      "execution_count": null,
      "outputs": []
    },
    {
      "cell_type": "code",
      "source": [
        "# If last index is left empty, it will default to last index.\n",
        "print(fruits[1:])"
      ],
      "metadata": {
        "id": "KIkQLk7WwfTv"
      },
      "execution_count": null,
      "outputs": []
    },
    {
      "cell_type": "code",
      "source": [
        "# Negative indexing can also be used here\n",
        "print(fruits[-4:-2])"
      ],
      "metadata": {
        "colab": {
          "base_uri": "https://localhost:8080/"
        },
        "id": "-HUgpp3WwhcB",
        "outputId": "d5952eb2-c82c-4fb1-b941-b9c1fb891d5a"
      },
      "execution_count": null,
      "outputs": [
        {
          "output_type": "stream",
          "name": "stdout",
          "text": [
            "['kiwi', 'banana']\n"
          ]
        }
      ]
    },
    {
      "cell_type": "markdown",
      "source": [
        "* A double colon syntax can also be used for slicing lists. It is of the format `[start : stop : steps]`. The `steps` is the value incremented in each step."
      ],
      "metadata": {
        "id": "T7d9b13PyFaj"
      }
    },
    {
      "cell_type": "code",
      "source": [
        "print(fruits[1:5:2]) "
      ],
      "metadata": {
        "colab": {
          "base_uri": "https://localhost:8080/"
        },
        "id": "cT-siHb3xF1D",
        "outputId": "1d049698-6809-469a-c650-f8be79de6009"
      },
      "execution_count": null,
      "outputs": [
        {
          "output_type": "stream",
          "name": "stdout",
          "text": [
            "['mango', 'kiwi', 'cherry']\n"
          ]
        }
      ]
    },
    {
      "cell_type": "markdown",
      "source": [
        "* This can be used to reverse lists. Using a negative value for `steps` will iterate the list in reverse fashion."
      ],
      "metadata": {
        "id": "ADPwAvx7yiUM"
      }
    },
    {
      "cell_type": "code",
      "source": [
        "print(fruits[4:1:-1])"
      ],
      "metadata": {
        "colab": {
          "base_uri": "https://localhost:8080/"
        },
        "id": "_FCygTvRyst4",
        "outputId": "398a2a0f-d15e-4c9b-c56e-2248a03631ac"
      },
      "execution_count": null,
      "outputs": [
        {
          "output_type": "stream",
          "name": "stdout",
          "text": [
            "['banana', 'kiwi', 'orange']\n"
          ]
        }
      ]
    },
    {
      "cell_type": "code",
      "source": [
        "# We can reverse the entire list using this\n",
        "print(fruits[::-1])"
      ],
      "metadata": {
        "colab": {
          "base_uri": "https://localhost:8080/"
        },
        "id": "jl1rMZ2oyzN_",
        "outputId": "b816386f-df01-41d2-cd5e-ad1abe1eb204"
      },
      "execution_count": null,
      "outputs": [
        {
          "output_type": "stream",
          "name": "stdout",
          "text": [
            "['melon', 'cherry', 'banana', 'kiwi', 'orange', 'mango', 'apple']\n"
          ]
        }
      ]
    },
    {
      "cell_type": "markdown",
      "source": [
        "* Any value left out, is treated as a default value."
      ],
      "metadata": {
        "id": "7onQXkjfy7U_"
      }
    },
    {
      "cell_type": "markdown",
      "source": [
        "### **Adding Items**\n",
        "\n",
        "* Items can be added to lists using `append()` and `insert()`."
      ],
      "metadata": {
        "id": "dzU5mzruzY5H"
      }
    },
    {
      "cell_type": "code",
      "source": [
        "ls = [10, 20, 30]\n",
        "\n",
        "ls.append(40)       # Append adds an element to the end of the list.\n",
        "print(ls)"
      ],
      "metadata": {
        "colab": {
          "base_uri": "https://localhost:8080/"
        },
        "id": "HQsRgxzZzvUj",
        "outputId": "92da7cb7-8b83-4961-90b1-7f39eb8080c8"
      },
      "execution_count": null,
      "outputs": [
        {
          "output_type": "stream",
          "name": "stdout",
          "text": [
            "[10, 20, 30, 40]\n"
          ]
        }
      ]
    },
    {
      "cell_type": "code",
      "source": [
        "ls = [10, 20, 40]\n",
        "\n",
        "ls.insert(2, 30)      # .insert(index, value)\n",
        "print(ls)"
      ],
      "metadata": {
        "colab": {
          "base_uri": "https://localhost:8080/"
        },
        "id": "lJURq0Mmz2-P",
        "outputId": "649b2c3e-8261-4c05-b8d2-79c4a54ff406"
      },
      "execution_count": null,
      "outputs": [
        {
          "output_type": "stream",
          "name": "stdout",
          "text": [
            "[10, 20, 30, 40]\n"
          ]
        }
      ]
    },
    {
      "cell_type": "markdown",
      "source": [
        "* We can even add another list entirely."
      ],
      "metadata": {
        "id": "KVTVgUhM0P40"
      }
    },
    {
      "cell_type": "code",
      "source": [
        "ls1 = [10, 20, 30]\n",
        "ls2 = [40, 50, 60]\n",
        "\n",
        "# Simply + operator can be used\n",
        "ls3 = ls1 + ls2\n",
        "print(ls3)\n",
        "\n",
        "\n",
        "# .extend() method can be used to add elements from any iterable\n",
        "ls1 = [10, 20, 30]\n",
        "ls1.extend(ls2)     # A new list is not returned, ls2 is appended to ls1\n",
        "print(ls1)\n"
      ],
      "metadata": {
        "id": "cE6jhz860WW3"
      },
      "execution_count": null,
      "outputs": []
    },
    {
      "cell_type": "markdown",
      "source": [
        "### **Removing Items**\n",
        "\n",
        "* The remove() method removes the specified item."
      ],
      "metadata": {
        "id": "DYWtKWMQ1MbE"
      }
    },
    {
      "cell_type": "code",
      "source": [
        "ls = [\"India\", \"Pakistan\", \"USA\"]\n",
        "ls.remove(\"Pakistan\")\n",
        "print(ls)"
      ],
      "metadata": {
        "id": "807V6HmA1a6S"
      },
      "execution_count": null,
      "outputs": []
    },
    {
      "cell_type": "markdown",
      "source": [
        "* The pop() method removes the item at given index. If not specified, the last item is removed"
      ],
      "metadata": {
        "id": "P0jGtiAp1hWX"
      }
    },
    {
      "cell_type": "code",
      "source": [
        "ls = [\"India\", \"Pakistan\", \"USA\"]\n",
        "ls.pop(1)\n",
        "print(ls)"
      ],
      "metadata": {
        "colab": {
          "base_uri": "https://localhost:8080/"
        },
        "id": "EvKRXY3V1m9H",
        "outputId": "a1c86297-bbb8-4738-b4b8-db9966a1b386"
      },
      "execution_count": null,
      "outputs": [
        {
          "output_type": "stream",
          "name": "stdout",
          "text": [
            "['India', 'USA']\n"
          ]
        }
      ]
    },
    {
      "cell_type": "markdown",
      "source": [
        "* clear() method deletes all elements of the list"
      ],
      "metadata": {
        "id": "ygf7fADB16pS"
      }
    },
    {
      "cell_type": "code",
      "source": [
        "ls = [\"Pakistan\", \"USA\", \"Russia\"]\n",
        "ls.clear()\n",
        "print(ls)"
      ],
      "metadata": {
        "colab": {
          "base_uri": "https://localhost:8080/"
        },
        "id": "-EG6YEyz1-u_",
        "outputId": "918dd1c1-32a4-4c99-a145-75801e4ce264"
      },
      "execution_count": null,
      "outputs": [
        {
          "output_type": "stream",
          "name": "stdout",
          "text": [
            "[]\n"
          ]
        }
      ]
    },
    {
      "cell_type": "markdown",
      "source": [
        "* `del` can also be used to delete an item or an entire list."
      ],
      "metadata": {
        "id": "ghLJY5AO1w8A"
      }
    },
    {
      "cell_type": "code",
      "source": [
        "ls = [\"Pakistan\", \"USA\", \"Russia\"]\n",
        "del ls[0]\n",
        "print(ls)\n",
        "\n",
        "del ls\n",
        "#print(ls)"
      ],
      "metadata": {
        "colab": {
          "base_uri": "https://localhost:8080/"
        },
        "id": "mqWslEht1wea",
        "outputId": "e0b34bc3-b7c9-422d-89f5-23b648b95bb3"
      },
      "execution_count": null,
      "outputs": [
        {
          "output_type": "stream",
          "name": "stdout",
          "text": [
            "['USA', 'Russia']\n"
          ]
        }
      ]
    },
    {
      "cell_type": "markdown",
      "source": [
        "### **Sorting**\n",
        "\n",
        "* Sorting operation can be done by simply using the sort() method.\n",
        "* By default, sorting is done in ascending order. For descending order, we set the arguement `reverse = True`"
      ],
      "metadata": {
        "id": "ymQUs39T2eQQ"
      }
    },
    {
      "cell_type": "code",
      "source": [
        "ls = [3, 5, 1, 2, 6, 7, -4, 5]\n",
        "ls.sort()       # Inplace sorting\n",
        "print(ls)  "
      ],
      "metadata": {
        "colab": {
          "base_uri": "https://localhost:8080/"
        },
        "id": "1hbehpA022gc",
        "outputId": "93e4647a-71ef-4591-af4b-ddcf25c1d62f"
      },
      "execution_count": null,
      "outputs": [
        {
          "output_type": "stream",
          "name": "stdout",
          "text": [
            "[-4, 1, 2, 3, 5, 5, 6, 7]\n"
          ]
        }
      ]
    },
    {
      "cell_type": "code",
      "source": [
        "ls = [3, 5, 1, 2, 6, 7, -4, 5]\n",
        "ls.sort(reverse=True)       # Reverse sorting\n",
        "print(ls)         "
      ],
      "metadata": {
        "id": "ZohK_1ZJ3jY7"
      },
      "execution_count": null,
      "outputs": []
    },
    {
      "cell_type": "code",
      "source": [
        "# For creating a new variable, we can use the sorted() function.\n",
        "\n",
        "ls = [3, 5, 1, 2, 6, 7, -4, 5]\n",
        "print(sorted(ls))\n",
        "print(ls)"
      ],
      "metadata": {
        "colab": {
          "base_uri": "https://localhost:8080/"
        },
        "id": "sOgOgmzI3A15",
        "outputId": "ead7e8f1-e79b-4129-957b-0b6fe4ba3d1b"
      },
      "execution_count": null,
      "outputs": [
        {
          "output_type": "stream",
          "name": "stdout",
          "text": [
            "[-4, 1, 2, 3, 5, 5, 6, 7]\n",
            "[3, 5, 1, 2, 6, 7, -4, 5]\n"
          ]
        }
      ]
    },
    {
      "cell_type": "markdown",
      "source": [
        "> Python supports a lot of methods for lists. You can refer to these methods here. \n",
        "https://www.w3schools.com/python/python_lists_methods.asp"
      ],
      "metadata": {
        "id": "H1m5iT2v3qHv"
      }
    },
    {
      "cell_type": "markdown",
      "source": [
        "## **Tuples**\n",
        "\n",
        "* Tuples are used to store multiple items in a single variable.\n",
        "* Tuples are created using `( )` and are immutable (unchangeable)\n",
        "* Similar to lists, tuples are 0-indexed."
      ],
      "metadata": {
        "id": "mkQdG8OH-S0V"
      }
    },
    {
      "cell_type": "code",
      "source": [
        "myTuple = (\"Zero\", \"One\", \"Two\", \"Three\")\n",
        "print(myTuple)"
      ],
      "metadata": {
        "colab": {
          "base_uri": "https://localhost:8080/"
        },
        "id": "kdLjutQfA_LB",
        "outputId": "13a06f82-66f2-4569-cf9f-5484143b1e5f"
      },
      "execution_count": null,
      "outputs": [
        {
          "output_type": "stream",
          "name": "stdout",
          "text": [
            "('Zero', 'One', 'Two', 'Three')\n",
            "<class 'int'> <class 'str'> <class 'float'>\n"
          ]
        }
      ]
    },
    {
      "cell_type": "code",
      "source": [
        "# A tuple can also have different data type values\n",
        "diffTup = (0, \"One\", 2.0)\n",
        "print(type(diffTup[0]), type(diffTup[1]), type(diffTup[2]))"
      ],
      "metadata": {
        "id": "m7d7heirB4Rj"
      },
      "execution_count": null,
      "outputs": []
    },
    {
      "cell_type": "markdown",
      "source": [
        "* As tuples are immutable, we cannot add or remove elements from a tuple. "
      ],
      "metadata": {
        "id": "Mu1pbIY5CgG4"
      }
    },
    {
      "cell_type": "markdown",
      "source": [
        "### **Unpacking tuples**\n",
        "\n",
        "* As we discussed tuples are used to store multiple items in a single variable. Now, unpacking a tuple means creating a separate variable for every item in a tuple."
      ],
      "metadata": {
        "id": "Aiy0jSt7CeDY"
      }
    },
    {
      "cell_type": "code",
      "source": [
        "myTuple = (\"Zero\", \"One\", \"Two\")\n",
        "z, o, t = myTuple\n",
        "print(z, o, t, sep='\\n')"
      ],
      "metadata": {
        "id": "TtSocFXaC9OP"
      },
      "execution_count": null,
      "outputs": []
    },
    {
      "cell_type": "markdown",
      "source": [
        "* If number of variables created are not equal to the number of items in the tuple, we will face an error. To resolve this error, use `*` before a variable name to assign all remaining items to that variable as a list."
      ],
      "metadata": {
        "id": "GBDl-eJYEBr1"
      }
    },
    {
      "cell_type": "code",
      "source": [
        "myTuple = (\"Zero\", \"One\", \"Two\")\n",
        "z, o = myTuple      # Use * \n",
        "print(z, o)"
      ],
      "metadata": {
        "id": "p7kv5X95D0KW"
      },
      "execution_count": null,
      "outputs": []
    },
    {
      "cell_type": "markdown",
      "source": [
        "## **Sets**\n",
        "\n",
        "* Set is an unordered collection of unique items.\n",
        "* Duplicates are not allowed in sets. If a duplicate item is assigned, it is only inserted once.\n",
        "* A set can be created using curly braces `{ }`.\n",
        "* Sets items are not changeable, but the set itself can change. (i.e items can be added or removed)\n",
        "* They are unindexed and so items cannot be accessed using index. "
      ],
      "metadata": {
        "id": "6SfNEfWIDpQn"
      }
    },
    {
      "cell_type": "code",
      "source": [
        "mySet = {10, 15, \"v\", 2, 13, \"Hello\", 10, 2, \"v\"}\n",
        "print(mySet)"
      ],
      "metadata": {
        "colab": {
          "base_uri": "https://localhost:8080/"
        },
        "id": "a9o7Y9CDF5fN",
        "outputId": "36dca233-e9cd-4491-a59f-6b89bf45ae2c"
      },
      "execution_count": null,
      "outputs": [
        {
          "output_type": "stream",
          "name": "stdout",
          "text": [
            "{2, 10, 13, 'Hello', 15, 'v'}\n"
          ]
        }
      ]
    },
    {
      "cell_type": "markdown",
      "source": [
        "### **Accessing Set Items**\n",
        "* Set items can be checked and accessed using the `in` keyword."
      ],
      "metadata": {
        "id": "6Oa6mj1nKC6G"
      }
    },
    {
      "cell_type": "code",
      "source": [
        "myLang = {\"C++\", \"Python\", \"Java\", \"Kotlin\"}\n",
        "if \"Javascript\" in myLang:\n",
        "    print(\"I know Javascript.\")\n",
        "else:\n",
        "    print(\"I do not know Javascript.\")"
      ],
      "metadata": {
        "colab": {
          "base_uri": "https://localhost:8080/"
        },
        "id": "7zVqTt2CLi9y",
        "outputId": "6d7156d5-b65a-4f16-fc9d-0a44c8f6aa22"
      },
      "execution_count": null,
      "outputs": [
        {
          "output_type": "stream",
          "name": "stdout",
          "text": [
            "I do not know Javascript.\n"
          ]
        }
      ]
    },
    {
      "cell_type": "code",
      "source": [
        "myLang = {\"C++\", \"Python\", \"Java\", \"Kotlin\"}\n",
        "for x in myLang:\n",
        "    print('I can code in', x, end='.\\n')"
      ],
      "metadata": {
        "colab": {
          "base_uri": "https://localhost:8080/"
        },
        "id": "l4Nb5G9ALFG8",
        "outputId": "7cb9a99f-3c86-4c95-b6fb-ee8875721f7d"
      },
      "execution_count": null,
      "outputs": [
        {
          "output_type": "stream",
          "name": "stdout",
          "text": [
            "I can code in Python.\n",
            "I can code in Kotlin.\n",
            "I can code in Java.\n",
            "I can code in C++.\n"
          ]
        }
      ]
    },
    {
      "cell_type": "markdown",
      "source": [
        "### **Adding Items**\n",
        "\n",
        "* Items can be added to a set using `add()` method."
      ],
      "metadata": {
        "id": "fKu0a5c4HArk"
      }
    },
    {
      "cell_type": "code",
      "source": [
        "mySet = {10, 20, 30}\n",
        "mySet.add(40)\n",
        "print(mySet)\n",
        "\n",
        "mySet.add(30)\n",
        "print(mySet)"
      ],
      "metadata": {
        "colab": {
          "base_uri": "https://localhost:8080/"
        },
        "id": "ChW0AIB9HWJc",
        "outputId": "13947e02-20fd-427e-c9a4-1a474d623235"
      },
      "execution_count": null,
      "outputs": [
        {
          "output_type": "stream",
          "name": "stdout",
          "text": [
            "{40, 10, 20, 30}\n",
            "{40, 10, 20, 30}\n"
          ]
        }
      ]
    },
    {
      "cell_type": "markdown",
      "source": [
        "* To add multiple items at once, we can use `update()` method. It takes any iterable as an arguement."
      ],
      "metadata": {
        "id": "Wd7vthRVHqwb"
      }
    },
    {
      "cell_type": "code",
      "source": [
        "mySet = {\"A\", \"B\", \"C\"}\n",
        "ls = [\"C\", \"D\", \"E\"]\n",
        "\n",
        "mySet.update(ls)\n",
        "print(mySet)"
      ],
      "metadata": {
        "colab": {
          "base_uri": "https://localhost:8080/"
        },
        "id": "SZIi2404H7vI",
        "outputId": "18425177-f9a8-4ba2-81c8-5f3d3fa72266"
      },
      "execution_count": null,
      "outputs": [
        {
          "output_type": "stream",
          "name": "stdout",
          "text": [
            "{'A', 'B', 'E', 'C', 'D'}\n"
          ]
        }
      ]
    },
    {
      "cell_type": "markdown",
      "source": [
        "### **Removing Items**\n",
        "\n",
        "* To remove an item from set, we can use `discard()` or `remove()` method.\n",
        "* Both function similarly with the only difference being that if item does not exist in the set, `remove()` will generate an error whereas `discard()` will NOT generate an error."
      ],
      "metadata": {
        "id": "VedX0S0pIPow"
      }
    },
    {
      "cell_type": "code",
      "source": [
        "mySet = {10, 20, 'A', 'B'}\n",
        "mySet.remove(10)\n",
        "mySet.remove(30)         # Element does not exist.\n",
        "print(mySet)"
      ],
      "metadata": {
        "id": "RbA1Dy9yImsE"
      },
      "execution_count": null,
      "outputs": []
    },
    {
      "cell_type": "code",
      "source": [
        "mySet = {10, 20, 'A', 'B'}\n",
        "mySet.discard(10)\n",
        "mySet.discard(30)        # Element does not exist.\n",
        "print(mySet)"
      ],
      "metadata": {
        "colab": {
          "base_uri": "https://localhost:8080/"
        },
        "id": "2cikqbCrJFVx",
        "outputId": "58018bdd-5ce3-4bc5-b83d-bf42002fd926"
      },
      "execution_count": null,
      "outputs": [
        {
          "output_type": "stream",
          "name": "stdout",
          "text": [
            "{'B', 20, 'A'}\n"
          ]
        }
      ]
    },
    {
      "cell_type": "markdown",
      "source": [
        "* `pop()` method removes the last element from the set.\n"
      ],
      "metadata": {
        "id": "8aJK6iwnJVQr"
      }
    },
    {
      "cell_type": "code",
      "source": [
        "mySet = {10, 20, 30}\n",
        "mySet.pop()\n",
        "print(mySet)"
      ],
      "metadata": {
        "colab": {
          "base_uri": "https://localhost:8080/"
        },
        "id": "ruvjnlnEJpoR",
        "outputId": "c7293c86-f3b1-4b95-856f-049d6f2982b3"
      },
      "execution_count": null,
      "outputs": [
        {
          "output_type": "stream",
          "name": "stdout",
          "text": [
            "{20, 30}\n"
          ]
        }
      ]
    },
    {
      "cell_type": "markdown",
      "source": [
        "### **Set Operations**\n",
        "\n",
        "* The `union()` method is used to perform union of two sets."
      ],
      "metadata": {
        "id": "3m2_tHhJMPfK"
      }
    },
    {
      "cell_type": "code",
      "source": [
        "A = {10, 20, 30}\n",
        "B = {20, 40, 50, 60}\n",
        "\n",
        "AuB = A.union(B)          # A new set is returned.\n",
        "print(AuB)\n",
        "\n",
        "# To perform union in-place, use update() method."
      ],
      "metadata": {
        "colab": {
          "base_uri": "https://localhost:8080/"
        },
        "id": "jZiFnIGRMjtv",
        "outputId": "22cfdb2a-93e0-4fb0-9484-975612439803"
      },
      "execution_count": null,
      "outputs": [
        {
          "output_type": "stream",
          "name": "stdout",
          "text": [
            "{50, 20, 40, 10, 60, 30}\n"
          ]
        }
      ]
    },
    {
      "cell_type": "markdown",
      "source": [
        "* The `intersection()` method is used to perform intersection of two sets."
      ],
      "metadata": {
        "id": "0YCE7edMMvqC"
      }
    },
    {
      "cell_type": "code",
      "source": [
        "A = {10, 20, 30}\n",
        "B = {20, 30, 50, 60}\n",
        "\n",
        "AiB = A.intersection(B)         # A new set is returned.\n",
        "print(AiB)\n",
        "\n",
        "# To perform intersection in-place, use intersection_update() method."
      ],
      "metadata": {
        "colab": {
          "base_uri": "https://localhost:8080/"
        },
        "id": "r787ZOxqM24u",
        "outputId": "f96d912d-5038-41a8-a79e-a55c26eae557"
      },
      "execution_count": null,
      "outputs": [
        {
          "output_type": "stream",
          "name": "stdout",
          "text": [
            "{20, 30}\n"
          ]
        }
      ]
    },
    {
      "cell_type": "markdown",
      "source": [
        "* Many other operations like difference and symmetric difference can also be performed using set methods. Check reference : https://www.w3schools.com/python/python_sets_methods.asp"
      ],
      "metadata": {
        "id": "8Nn2Dl7aN8pu"
      }
    },
    {
      "cell_type": "markdown",
      "source": [
        "## **Dictionaries**\n",
        "\n",
        "* Dictionaries are used to store `key : value` pairs in python. It is an implementation of hash tables.\n",
        "* Item values can be accessed using the `key` for the required item. \n",
        "* Dictionaries are mutable, i.e we can add or remove items after the dictionary has been created.\n",
        "* Dictionaries require a unique `key` for every item. No two items can have the same `key`.\n"
      ],
      "metadata": {
        "id": "da5xQPxrOQhm"
      }
    },
    {
      "cell_type": "code",
      "source": [
        "myDict = {\n",
        "    202001186 : \"Student ID\",         # keys and values can be of any data type\n",
        "    \"Name\" : \"Vishesh\",                                    # NOT Vishvesh\n",
        "    \"College\" : \"DAIICT\",\n",
        "    \"Graduation Year\" : 2024,\n",
        "    \"Years of Study\" : [2020, 2021, 2022, 2024],\n",
        "}\n",
        "print(myDict)"
      ],
      "metadata": {
        "colab": {
          "base_uri": "https://localhost:8080/"
        },
        "id": "tZ9NW6gxPhw2",
        "outputId": "82e7f617-cb16-40f4-c840-946ec3faefdf"
      },
      "execution_count": null,
      "outputs": [
        {
          "output_type": "stream",
          "name": "stdout",
          "text": [
            "{202001186: 'Student ID', 'Name': 'Vishesh', 'College': 'DAIICT', 'Graduation Year': 2024, 'Years of Study': [2020, 2021, 2022, 2024]}\n"
          ]
        }
      ]
    },
    {
      "cell_type": "code",
      "source": [
        "print(myDict[202001186])"
      ],
      "metadata": {
        "colab": {
          "base_uri": "https://localhost:8080/"
        },
        "id": "x_74406WP-jh",
        "outputId": "9079e59b-43ff-44ad-f835-4707dcdf7228"
      },
      "execution_count": null,
      "outputs": [
        {
          "output_type": "stream",
          "name": "stdout",
          "text": [
            "Student ID\n"
          ]
        }
      ]
    },
    {
      "cell_type": "markdown",
      "source": [
        "### **Accessing Dictionary Items**\n",
        "\n",
        "* As shown above, dictionary `values` can be accessed by using their corresponding `keys` as index.\n",
        "* This can also be done using the `get()` method. This will prevent an error incase key does not exist."
      ],
      "metadata": {
        "id": "H5aF14B2QjE1"
      }
    },
    {
      "cell_type": "code",
      "source": [
        "gradeDict = {'A' : 5, 'B': 4, 'C' : 3, 'D' : 2, 'E' : 1, 'F' : 0}\n",
        "\n",
        "print(gradeDict.get('B'))       \n",
        "print(gradeDict.get('X'))"
      ],
      "metadata": {
        "colab": {
          "base_uri": "https://localhost:8080/"
        },
        "id": "vS-ux2DKRlhE",
        "outputId": "b48112eb-bb08-42ff-acff-2280721c61e0"
      },
      "execution_count": null,
      "outputs": [
        {
          "output_type": "stream",
          "name": "stdout",
          "text": [
            "4\n",
            "None\n"
          ]
        }
      ]
    },
    {
      "cell_type": "markdown",
      "source": [
        "### **Adding and Updating Items**\n",
        "\n",
        "* Existing items can be updated easily by accessing them using their corresponding `key`."
      ],
      "metadata": {
        "id": "zuH9m8hZST98"
      }
    },
    {
      "cell_type": "code",
      "source": [
        "phone = {\n",
        "    'Company' : 'Samsung',\n",
        "    'Model' : 'S21',\n",
        "    'Android Version' : 11\n",
        "}\n",
        "\n",
        "phone['Android Version'] = 12\n",
        "print(phone)"
      ],
      "metadata": {
        "colab": {
          "base_uri": "https://localhost:8080/"
        },
        "id": "aKD29KP_TVxG",
        "outputId": "ede8399e-a4ef-471d-9736-a680e7725601"
      },
      "execution_count": null,
      "outputs": [
        {
          "output_type": "stream",
          "name": "stdout",
          "text": [
            "{'Company': 'Samsung', 'Model': 'S21', 'Android Version': 12}\n"
          ]
        }
      ]
    },
    {
      "cell_type": "markdown",
      "source": [
        "* If we assign a `value` to a `key` which does not exist, a new `key : value` pair will be added to the dictionary."
      ],
      "metadata": {
        "id": "71ii8Sz7T7K6"
      }
    },
    {
      "cell_type": "code",
      "source": [
        "phone = {\n",
        "    'Company' : 'Samsung',\n",
        "    'Model' : 'S21',\n",
        "    'Android Version' : 11\n",
        "}\n",
        "phone['OneUI'] = 4.1\n",
        "print(phone)"
      ],
      "metadata": {
        "colab": {
          "base_uri": "https://localhost:8080/"
        },
        "id": "Ms2hzzzpUIcZ",
        "outputId": "d489181a-f0fc-47be-a9d3-2b2d3f717602"
      },
      "execution_count": null,
      "outputs": [
        {
          "output_type": "stream",
          "name": "stdout",
          "text": [
            "{'Company': 'Samsung', 'Model': 'S21', 'Android Version': 11, 'OneUI': 4.1}\n"
          ]
        }
      ]
    },
    {
      "cell_type": "markdown",
      "source": [
        "* To add new or update multiple items at once, we can use the `update()` method of dictionaries. \n",
        "* `update()` method takes a dictionary as input which will be merged with the calling dictionary."
      ],
      "metadata": {
        "id": "u8yJZFH8USZX"
      }
    },
    {
      "cell_type": "code",
      "source": [
        "phone = {\n",
        "    'Company' : 'Samsung',\n",
        "    'Model' : 'S21',\n",
        "    'Android Version' : 11\n",
        "} \n",
        "phone.update({'Model':'S22', 'Android Version':12, 'Color': 'Black'})\n",
        "print(phone)"
      ],
      "metadata": {
        "colab": {
          "base_uri": "https://localhost:8080/"
        },
        "id": "BgNS81Z7UdcM",
        "outputId": "d647202f-7699-428a-eaca-15d23d25471e"
      },
      "execution_count": null,
      "outputs": [
        {
          "output_type": "stream",
          "name": "stdout",
          "text": [
            "{'Company': 'Samsung', 'Model': 'S22', 'Android Version': 12, 'Color': 'Black'}\n"
          ]
        }
      ]
    },
    {
      "cell_type": "markdown",
      "source": [
        "### **Remove Items**\n",
        "\n",
        "* To remove an item, we can use the `pop()` method. It takes item `key` as input parameter."
      ],
      "metadata": {
        "id": "UM_M67KKVHVs"
      }
    },
    {
      "cell_type": "code",
      "source": [
        "phone = {\n",
        "    'Company' : 'Samsung',\n",
        "    'Model' : 'S21',\n",
        "    'Android Version' : 12,\n",
        "    'Color' : 'Black'\n",
        "} \n",
        "phone.pop('Color') \n",
        "print(phone)"
      ],
      "metadata": {
        "colab": {
          "base_uri": "https://localhost:8080/"
        },
        "id": "WoY5wH8lVdQ5",
        "outputId": "848ca40b-b30b-49b3-fc44-ddeca4f05138"
      },
      "execution_count": null,
      "outputs": [
        {
          "output_type": "stream",
          "name": "stdout",
          "text": [
            "{'Company': 'Samsung', 'Model': 'S21', 'Android Version': 12}\n"
          ]
        }
      ]
    },
    {
      "cell_type": "markdown",
      "source": [
        "* The `popitem()` method removes the last inserted item from the dictionary. \n",
        "\n",
        "* Note that dictionaries are unordered in versions before 3.7. In older versions, this method removes a random item."
      ],
      "metadata": {
        "id": "ZI5aiVafVzue"
      }
    },
    {
      "cell_type": "code",
      "source": [
        "phone = {\n",
        "    'Company' : 'Samsung',\n",
        "    'Model' : 'S21',\n",
        "    'Android Version' : 12,\n",
        "} \n",
        "phone.popitem()\n",
        "print(phone)"
      ],
      "metadata": {
        "colab": {
          "base_uri": "https://localhost:8080/"
        },
        "id": "TTYjcvGwV9LZ",
        "outputId": "e110e120-d64f-4eeb-d4f2-226d1ec5d333"
      },
      "execution_count": null,
      "outputs": [
        {
          "output_type": "stream",
          "name": "stdout",
          "text": [
            "{'Company': 'Samsung', 'Model': 'S21'}\n"
          ]
        }
      ]
    },
    {
      "cell_type": "markdown",
      "source": [
        "### **Items, Keys & Values**\n",
        "\n",
        "While using python dictionaries you will work with these three terms.\n",
        "1. ***items*** : Items refer to a `key:value` pair. It is stored in the form of a tuple.\n",
        "2. ***keys*** : Keys refer to the user made indices which are used to access items.\n",
        "3. ***values*** : Values refere to the *data* which can be accessed using its corresponding key."
      ],
      "metadata": {
        "id": "NaseWcEOW36X"
      }
    },
    {
      "cell_type": "code",
      "source": [
        "phone = {\n",
        "    'Company' : 'Samsung',\n",
        "    'Model' : 'S21',\n",
        "    'Android Version' : 12,\n",
        "} \n",
        "pItem = phone.popitem()    #Yes, pop() functions return the deleted item.\n",
        "print(pItem, type(pItem))"
      ],
      "metadata": {
        "colab": {
          "base_uri": "https://localhost:8080/"
        },
        "id": "EQvKPGpsXxJU",
        "outputId": "ec5444f7-0b29-42b5-cf01-4587a80314ed"
      },
      "execution_count": null,
      "outputs": [
        {
          "output_type": "stream",
          "name": "stdout",
          "text": [
            "('Android Version', 12) <class 'tuple'>\n"
          ]
        }
      ]
    },
    {
      "cell_type": "markdown",
      "source": [
        "We can view all items, keys and values using the methods `items()`, `keys()` and `values()` respectively."
      ],
      "metadata": {
        "id": "Ngeebs6NYPJs"
      }
    },
    {
      "cell_type": "code",
      "source": [
        "phone = {\n",
        "    'Company' : 'Samsung',\n",
        "    'Model' : 'S21',\n",
        "    'Android Version' : 12,\n",
        "} \n",
        "\n",
        "print(phone.items(), type(phone.items()))\n",
        "print(phone.keys(), type(phone.keys()))\n",
        "print(phone.values(), type(phone.values()))"
      ],
      "metadata": {
        "id": "gRAixHeFYjs1"
      },
      "execution_count": null,
      "outputs": []
    },
    {
      "cell_type": "markdown",
      "source": [
        "### **Using the `in` keyword**\n",
        "\n",
        "* Using the `in` keyword with dictionary variable will search only in the dictionary keys."
      ],
      "metadata": {
        "id": "cWiEYiGNZXdw"
      }
    },
    {
      "cell_type": "code",
      "source": [
        "phone = {\n",
        "    'Company' : 'Samsung',\n",
        "    'Model' : 'S21',\n",
        "    'Android Version' : 12,\n",
        "} \n",
        "for x in phone:\n",
        "    print(x)"
      ],
      "metadata": {
        "colab": {
          "base_uri": "https://localhost:8080/"
        },
        "id": "4M26-AwRZ6Al",
        "outputId": "8d10c0ab-5a6a-4dfb-edde-9d277bda049e"
      },
      "execution_count": null,
      "outputs": [
        {
          "output_type": "stream",
          "name": "stdout",
          "text": [
            "Company\n",
            "Model\n",
            "Android Version\n"
          ]
        }
      ]
    },
    {
      "cell_type": "markdown",
      "source": [
        "* For searching items, values we need to use `items()`, `values()` methods."
      ],
      "metadata": {
        "id": "R-Vdk1fMaHpz"
      }
    },
    {
      "cell_type": "code",
      "source": [
        "for k, v in phone.items():            # Note how tuples are unpacked here.\n",
        "    print(\"Key:\", k, \"\\tValue:\", v)"
      ],
      "metadata": {
        "colab": {
          "base_uri": "https://localhost:8080/"
        },
        "id": "zrKKY1oTaSHs",
        "outputId": "03a0eab5-8124-4d12-a755-0268b3442970"
      },
      "execution_count": null,
      "outputs": [
        {
          "output_type": "stream",
          "name": "stdout",
          "text": [
            "Key: Company \tValue: Samsung\n",
            "Key: Model \tValue: S21\n",
            "Key: Android Version \tValue: 12\n"
          ]
        }
      ]
    },
    {
      "cell_type": "markdown",
      "source": [
        "> Python dictionaries also support many other methods. Check reference: https://www.w3schools.com/python/python_dictionaries_methods.asp"
      ],
      "metadata": {
        "id": "QRBK-pjplINK"
      }
    },
    {
      "cell_type": "markdown",
      "source": [
        "## **Some Common Functions & Methods**\n",
        "\n",
        "The collections discussed above have some methods which are common to almost all of them. Some of these functions which we often use are:\n",
        "1. `len()` function: Returns number of items, i.e length of iterable. \n"
      ],
      "metadata": {
        "id": "vn2aOgw_k3jW"
      }
    },
    {
      "cell_type": "code",
      "source": [
        "myList = ['a', 'b', 'c']\n",
        "print(\"List has\", len(myList), \"elements.\")"
      ],
      "metadata": {
        "id": "wjbFxNWdmY-o"
      },
      "execution_count": null,
      "outputs": []
    },
    {
      "cell_type": "markdown",
      "source": [
        "The `len()` function will similarly work for all other iterables like tuple, set, dictionary and even strings.  "
      ],
      "metadata": {
        "id": "WZUw9OV4orbA"
      }
    },
    {
      "cell_type": "markdown",
      "source": [
        "2. `clear()` method: Used to delete all items from the iterable."
      ],
      "metadata": {
        "id": "Ih8AZiwLncrO"
      }
    },
    {
      "cell_type": "code",
      "source": [
        "myList = ['a', 'b', 'c']\n",
        "print(myList)\n",
        "myList.clear()\n",
        "print(myList)"
      ],
      "metadata": {
        "colab": {
          "base_uri": "https://localhost:8080/"
        },
        "id": "fs6U5Y29ni7I",
        "outputId": "57bff0c4-c7cd-4046-d8c9-26859ca85de7"
      },
      "execution_count": null,
      "outputs": [
        {
          "output_type": "stream",
          "name": "stdout",
          "text": [
            "['a', 'b', 'c']\n",
            "[]\n"
          ]
        }
      ]
    },
    {
      "cell_type": "code",
      "source": [
        "myTuple = (40, 35)\n",
        "print(myTuple)\n",
        "myTuple.clear()        # Will this work ?\n",
        "print(myTuple)"
      ],
      "metadata": {
        "id": "8Gqn2uB1npVP"
      },
      "execution_count": null,
      "outputs": []
    },
    {
      "cell_type": "code",
      "source": [
        "mySet = {1, 2, 3, 4}\n",
        "print(mySet)\n",
        "mySet.clear()\n",
        "print(mySet)"
      ],
      "metadata": {
        "colab": {
          "base_uri": "https://localhost:8080/"
        },
        "id": "6i0VSIUonpwr",
        "outputId": "b456824a-33d4-44fa-bfa7-f56fc7c5b40f"
      },
      "execution_count": null,
      "outputs": [
        {
          "output_type": "stream",
          "name": "stdout",
          "text": [
            "{1, 2, 3, 4}\n",
            "set()\n"
          ]
        }
      ]
    },
    {
      "cell_type": "code",
      "source": [
        "myDict = {'Cold Coffee' : 35, 'Iced Tea' : 35, 'Samosa Chat' : 40}\n",
        "print(myDict)\n",
        "myDict.clear()\n",
        "print(myDict)"
      ],
      "metadata": {
        "colab": {
          "base_uri": "https://localhost:8080/"
        },
        "id": "ZlmkBhr0np66",
        "outputId": "0c57d44f-cd2e-4813-e303-438881b59dd0"
      },
      "execution_count": null,
      "outputs": [
        {
          "output_type": "stream",
          "name": "stdout",
          "text": [
            "{'Cold Coffee': 35, 'Iced Tea': 35, 'Samosa Chat': 40}\n",
            "{}\n"
          ]
        }
      ]
    },
    {
      "cell_type": "markdown",
      "source": [
        "3. `copy()` method: Creates a ***new*** copy of the iterable and returns it, which can be assigned to a variable. The copy method cannot be applied for tuples, as they are immutable."
      ],
      "metadata": {
        "id": "PRGzehxSpDRM"
      }
    },
    {
      "cell_type": "code",
      "source": [
        "myList = [1, 4, 7]\n",
        "myListCopy = myList\n",
        "\n",
        "\n",
        "print(\"List: \", myList)\n",
        "print(\"Copied List: \", myListCopy)"
      ],
      "metadata": {
        "colab": {
          "base_uri": "https://localhost:8080/"
        },
        "id": "QbUaWpBBqJ6e",
        "outputId": "9bf9ab78-be1f-4056-b6c7-ed3e113887c0"
      },
      "execution_count": null,
      "outputs": [
        {
          "output_type": "stream",
          "name": "stdout",
          "text": [
            "List:  [1, 4, 7, 5]\n",
            "Copied List:  [1, 4, 7, 5]\n"
          ]
        }
      ]
    },
    {
      "cell_type": "code",
      "source": [
        "myList = [1, 4, 7]\n",
        "myListCopy = myList.copy()\n",
        "\n",
        "\n",
        "print(\"List: \", myList)\n",
        "print(\"Copied List: \", myListCopy)"
      ],
      "metadata": {
        "colab": {
          "base_uri": "https://localhost:8080/"
        },
        "id": "GWhoix9UpL0n",
        "outputId": "d262da83-bdaf-4c2c-d680-96d17b1a85f5"
      },
      "execution_count": null,
      "outputs": [
        {
          "output_type": "stream",
          "name": "stdout",
          "text": [
            "List:  [1, 4, 7, 5]\n",
            "Copied List:  [1, 4, 7]\n"
          ]
        }
      ]
    },
    {
      "cell_type": "markdown",
      "source": [
        "## **Type Casting Iterables** \n",
        "\n",
        "* Iterables can be easy type casted from one type to another using the constructors, `list()`, `tuple()`, `set()` and `dict()`. "
      ],
      "metadata": {
        "id": "kAaObnGX_xZn"
      }
    },
    {
      "cell_type": "code",
      "source": [
        "myList = [1, 2, 3, 4, 5, 4, 5]\n",
        "myTuple = tuple(myList)\n",
        "print(myTuple)\n"
      ],
      "metadata": {
        "colab": {
          "base_uri": "https://localhost:8080/"
        },
        "id": "tlbzsW-DAGvE",
        "outputId": "f933c518-0250-4f29-98e9-3a26470142e0"
      },
      "execution_count": null,
      "outputs": [
        {
          "output_type": "stream",
          "name": "stdout",
          "text": [
            "(1, 2, 3, 4, 5, 4, 5)\n",
            "[1, 2, 3, 4, 5, 4, 5]\n"
          ]
        }
      ]
    },
    {
      "cell_type": "code",
      "source": [
        "myList = [1, 2, 4, 2, 4, 3]\n",
        "mySet = set(myList)\n",
        "print(myList)"
      ],
      "metadata": {
        "colab": {
          "base_uri": "https://localhost:8080/"
        },
        "id": "1YRZYKZkAcuX",
        "outputId": "058d20a9-e344-4692-8d3f-f3dce3faa605"
      },
      "execution_count": null,
      "outputs": [
        {
          "output_type": "stream",
          "name": "stdout",
          "text": [
            "[1, 2, 4, 2, 4, 3]\n"
          ]
        }
      ]
    },
    {
      "cell_type": "code",
      "source": [
        "myList = [(1, \"A\"), (2, \"B\"), (3, \"C\")]\n",
        "#myList = [1, 2, 3]\n",
        "myDict = dict(myList)       # Dict requires key:value pairs\n",
        "print(myDict)"
      ],
      "metadata": {
        "colab": {
          "base_uri": "https://localhost:8080/"
        },
        "id": "P7w-mA5OAO30",
        "outputId": "c9e6695b-5902-46cb-8212-ffd7643b9658"
      },
      "execution_count": null,
      "outputs": [
        {
          "output_type": "stream",
          "name": "stdout",
          "text": [
            "{1: 'A', 2: 'B', 3: 'C'}\n"
          ]
        }
      ]
    },
    {
      "cell_type": "markdown",
      "source": [
        "* We can also use these constructors on strings.\n"
      ],
      "metadata": {
        "id": "4txBZqDZA-Yl"
      }
    },
    {
      "cell_type": "code",
      "source": [
        "myStr = \"racecar\"\n",
        "print(list(myStr))\n",
        "print(tuple(myStr))\n",
        "print(set(myStr))"
      ],
      "metadata": {
        "colab": {
          "base_uri": "https://localhost:8080/"
        },
        "id": "6y5gU5QUBEKM",
        "outputId": "1d56e389-5914-4c49-d2ff-cab28d0419eb"
      },
      "execution_count": null,
      "outputs": [
        {
          "output_type": "stream",
          "name": "stdout",
          "text": [
            "['r', 'a', 'c', 'e', 'c', 'a', 'r']\n",
            "('r', 'a', 'c', 'e', 'c', 'a', 'r')\n",
            "{'e', 'c', 'r', 'a'}\n"
          ]
        }
      ]
    },
    {
      "cell_type": "markdown",
      "source": [
        "## **Functions in Python**\n",
        "\n",
        "* Functions in python can be declared using the `def` keyword. \n",
        "* `def` is followed by function name and arguements within `( )`.\n"
      ],
      "metadata": {
        "id": "qtTrYTOfFSbZ"
      }
    },
    {
      "cell_type": "code",
      "source": [
        "def myFunction(username):\n",
        "    print(\"Welcome\", username)\n",
        "\n",
        "myFunction(\"Vishesh\")"
      ],
      "metadata": {
        "id": "g2OlAuFPFmBI"
      },
      "execution_count": null,
      "outputs": []
    },
    {
      "cell_type": "code",
      "source": [
        "# Multiple Arguements\n",
        "def myFunc(username, email):\n",
        "    print(\"Username:\", username)\n",
        "    print(\"Email ID:\", email)\n",
        "\n",
        "myFunc(\"Vishesh\", \"vishesh@mail.com\")"
      ],
      "metadata": {
        "id": "7xo6HvxuGyfC"
      },
      "execution_count": null,
      "outputs": []
    },
    {
      "cell_type": "markdown",
      "source": [
        "* For multiple parameters, arguements can also be sent in the form of `key = value` synatax."
      ],
      "metadata": {
        "id": "Mr-AFW4lGLzl"
      }
    },
    {
      "cell_type": "code",
      "source": [
        "def myFunc(username, email):\n",
        "    print(\"Username:\", username)\n",
        "    print(\"Email ID:\", email)\n",
        "\n",
        "myFunc(email=\"vishesh@mail.com\", username=\"Vishesh\")"
      ],
      "metadata": {
        "id": "UCbiWPYuHKwM"
      },
      "execution_count": null,
      "outputs": []
    },
    {
      "cell_type": "markdown",
      "source": [
        "# **Python pip**\n",
        "\n",
        "\n",
        "* Python supports a lot of third-party packages which can be easily installed using pip.\n",
        "* **pip** is a package installer for python.\n",
        "* Note that pip is not a python function. It is a command line tool which is used to manage packages in python."
      ],
      "metadata": {
        "id": "cGWTfQpRHVJU"
      }
    },
    {
      "cell_type": "markdown",
      "source": [
        "## **Installing a package**\n",
        "\n",
        "* If you have python installed on your local machine, you can try using pip on your command prompt."
      ],
      "metadata": {
        "id": "DAO3HKe2IKzV"
      }
    },
    {
      "cell_type": "code",
      "source": [
        "pip install numpy"
      ],
      "metadata": {
        "colab": {
          "base_uri": "https://localhost:8080/"
        },
        "id": "3LwtcnAdH7FG",
        "outputId": "b4ab7aea-441f-4595-e4ad-c3fe4dc126da"
      },
      "execution_count": 82,
      "outputs": [
        {
          "output_type": "stream",
          "name": "stdout",
          "text": [
            "Looking in indexes: https://pypi.org/simple, https://us-python.pkg.dev/colab-wheels/public/simple/\n",
            "Requirement already satisfied: numpy in /usr/local/lib/python3.7/dist-packages (1.21.6)\n"
          ]
        }
      ]
    },
    {
      "cell_type": "markdown",
      "source": [
        "* You can find numerous useful python packages at https://pypi.org/"
      ],
      "metadata": {
        "id": "V1pJr9rPIhiI"
      }
    },
    {
      "cell_type": "markdown",
      "source": [
        "## **Using a package**\n",
        "\n",
        "* To use a package in python, we need to first import it to our code using the `import` and `from` keyword.\n",
        "\n"
      ],
      "metadata": {
        "id": "0w37CqHQIndG"
      }
    },
    {
      "cell_type": "code",
      "source": [
        "import math\n",
        "x = 3\n",
        "y = 4\n",
        "d = math.sqrt(x**2 + y**2)\n",
        "print(d)"
      ],
      "metadata": {
        "colab": {
          "base_uri": "https://localhost:8080/"
        },
        "id": "UgjpRYySJO6h",
        "outputId": "883c8fde-87b5-47c3-be04-ae102f93c428"
      },
      "execution_count": 84,
      "outputs": [
        {
          "output_type": "stream",
          "name": "stdout",
          "text": [
            "5.0\n"
          ]
        }
      ]
    },
    {
      "cell_type": "markdown",
      "source": [
        "* Using `from` we can import only the required class from the module."
      ],
      "metadata": {
        "id": "pewPH2QoJasZ"
      }
    },
    {
      "cell_type": "code",
      "source": [
        "from math import sqrt\n",
        "x = 3\n",
        "y = 4\n",
        "d = sqrt(x**2 + y**2)\n",
        "print(d)"
      ],
      "metadata": {
        "colab": {
          "base_uri": "https://localhost:8080/"
        },
        "id": "ZSb9tLJNJkUL",
        "outputId": "1a452843-bb03-4f16-889c-2f33e0391f5f"
      },
      "execution_count": 86,
      "outputs": [
        {
          "output_type": "stream",
          "name": "stdout",
          "text": [
            "5.0\n"
          ]
        }
      ]
    },
    {
      "cell_type": "markdown",
      "source": [
        "* We can also define an alias for module names using the `as` keyword."
      ],
      "metadata": {
        "id": "uU2JaW5pJyYq"
      }
    },
    {
      "cell_type": "code",
      "source": [
        "import numpy as np\n",
        "\n",
        "# eye(n) creates returns an identity matrix of size n\n",
        "arr = np.eye(3, dtype=int)      \n",
        "\n",
        "print(arr)"
      ],
      "metadata": {
        "colab": {
          "base_uri": "https://localhost:8080/"
        },
        "id": "Npuda8keI3Rc",
        "outputId": "84bceafa-c2a2-49c6-baa6-032e894a8009"
      },
      "execution_count": 90,
      "outputs": [
        {
          "output_type": "stream",
          "name": "stdout",
          "text": [
            "[[1 0 0]\n",
            " [0 1 0]\n",
            " [0 0 1]]\n"
          ]
        }
      ]
    },
    {
      "cell_type": "markdown",
      "source": [
        "# **Let's Code: Hangman Game** \n",
        "\n",
        "> Hangman is a simple paper-pencil, word-guessing game where the player must guess the given word within a certain number of guesses.\n",
        "Let's code a simple hangman game in python! \n",
        "\n"
      ],
      "metadata": {
        "id": "d7vJb3T_EHJP"
      }
    },
    {
      "cell_type": "code",
      "source": [
        "import random\n",
        "from google.colab import output         # Ignore for now\n",
        "\n",
        "wordlist = ['APPLE', 'BANANA', 'ORANGE', 'WATERMELON']\n",
        "fig = [\"\\n ____\\n|     \\n|    O\\n|       \\n|     \\n|       \\n\",\n",
        "       \"\\n ____\\n|     \\n|    O\\n|    |  \\n|    |\\n|       \\n\",\n",
        "       \"\\n ____\\n|     \\n|    O\\n|   /|  \\n|    |\\n|       \\n\",\n",
        "       \"\\n ____\\n|     \\n|    O\\n|   /|\\\\\\n|    |\\n|       \\n\",\n",
        "       \"\\n ____\\n|     \\n|    O\\n|   /|\\\\\\n|    |\\n|   /   \\n\",\n",
        "       \"\\n ____\\n|     \\n|    O\\n|   /|\\\\\\n|    |\\n|   / \\\\\\n\",\n",
        "       \"\\n ____\\n|    |\\n|    O\\n|   /|\\\\\\n|    |\\n|   / \\\\\\n\"]\n",
        "\n",
        "word = random.choice(wordlist)\n",
        "guessed = []\n",
        "wrongGuesses = 0\n",
        "\n",
        "while wrongGuesses < 7:\n",
        "  print('\\n')\n",
        "  blanksCount = 0\n",
        "  for i in word:\n",
        "    if i in guessed:\n",
        "      print(i, end=' ')\n",
        "    else:\n",
        "      print('_', end=' ')\n",
        "      blanksCount+=1\n",
        "  \n",
        "  if blanksCount == 0:\n",
        "    break\n",
        "\n",
        "  letter = input(\"\\n\\nGuessed Letter: \").upper()\n",
        "  if letter not in word:\n",
        "    print(fig[wrongGuesses])\n",
        "    wrongGuesses+=1\n",
        "  else:\n",
        "    guessed.append(letter)\n",
        "\n",
        "\n",
        "if wrongGuesses >= 7:\n",
        "  print(\"\\n\\nYou Lost!\")\n",
        "else:\n",
        "  print(\"\\n\\nYou Win!\")\n"
      ],
      "metadata": {
        "id": "Xnpu4ZoRZLgq"
      },
      "execution_count": null,
      "outputs": []
    }
  ]
}